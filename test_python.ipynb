{
 "cells": [
  {
   "cell_type": "code",
   "execution_count": 3,
   "id": "2599b975-97c3-46af-bcef-8778fb4c3001",
   "metadata": {
    "tags": []
   },
   "outputs": [
    {
     "name": "stdout",
     "output_type": "stream",
     "text": [
      "hello jupyter\n"
     ]
    }
   ],
   "source": [
    "print (\"hello jupyter\")"
   ]
  },
  {
   "cell_type": "code",
   "execution_count": 10,
   "id": "9440afdb-d868-41fa-9bea-bb0cc60d7b3b",
   "metadata": {},
   "outputs": [
    {
     "name": "stdout",
     "output_type": "stream",
     "text": [
      "1  line\n",
      "2  line\n",
      "3  line\n",
      "4  line\n",
      "5  line\n",
      "6  line\n",
      "7  line\n",
      "8  line\n",
      "9  line\n",
      "10  line\n"
     ]
    }
   ],
   "source": [
    "a = [1,2,3,4,5,6,7,8,9,10]\n",
    "for i in a:\n",
    "    print (i, \" line\")\n",
    "    "
   ]
  },
  {
   "cell_type": "code",
   "execution_count": 15,
   "id": "8df09b86-3665-4c80-894e-6a3fa949b958",
   "metadata": {},
   "outputs": [
    {
     "name": "stdout",
     "output_type": "stream",
     "text": [
      "0\n",
      "2\n",
      "4\n",
      "6\n",
      "8\n",
      "10\n",
      "12\n",
      "14\n",
      "16\n",
      "18\n",
      "20\n"
     ]
    }
   ],
   "source": [
    "b = 0\n",
    "a = 0\n",
    "while a <= 10:\n",
    "    a = a + 1\n",
    "    print (b)\n",
    "    if b % 2 == 0: \n",
    "        b = b + 2\n",
    "    else: b = b - 1\n",
    "    "
   ]
  },
  {
   "cell_type": "code",
   "execution_count": null,
   "id": "37422f4c-bc71-40d9-a349-43de03a7ce3f",
   "metadata": {},
   "outputs": [],
   "source": []
  }
 ],
 "metadata": {
  "kernelspec": {
   "display_name": "Python 3 (ipykernel)",
   "language": "python",
   "name": "python3"
  },
  "language_info": {
   "codemirror_mode": {
    "name": "ipython",
    "version": 3
   },
   "file_extension": ".py",
   "mimetype": "text/x-python",
   "name": "python",
   "nbconvert_exporter": "python",
   "pygments_lexer": "ipython3",
   "version": "3.11.1"
  }
 },
 "nbformat": 4,
 "nbformat_minor": 5
}
